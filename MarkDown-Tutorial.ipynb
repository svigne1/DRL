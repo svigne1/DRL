{
 "cells": [
  {
   "cell_type": "markdown",
   "metadata": {},
   "source": [
    "# Jupyter Tutorial\n",
    "<a id=\"top\"></a>"
   ]
  },
  {
   "cell_type": "markdown",
   "metadata": {},
   "source": [
    "## MarkDown tutorial"
   ]
  },
  {
   "cell_type": "markdown",
   "metadata": {},
   "source": [
    "# h1\n",
    "## h2\n",
    "### h3\n",
    "\n",
    "1. hi\n",
    "2. bye\n",
    "    * See u \n",
    "    * Goodbye\n",
    "    \n",
    "**Bold Text** \n",
    "```Code Block\n",
    "<img src=\"\" width=200/>```\n",
    "\n",
    "[link to google](http://google.com)\n",
    "\n",
    "[link to top](#top)"
   ]
  },
  {
   "cell_type": "markdown",
   "metadata": {},
   "source": [
    "## Jupyter Tutorial\n",
    "\n",
    "Esc, m -> Change cell to Markdown <br/>\n",
    "Esc, y -> Change cell to Code <br/>\n",
    "\n",
    "Esc, a -> Insert new cell above <br/>\n",
    "Esc, b -> Insert new cell below <br/>\n",
    "Esc, dd -> Delete current cell\n",
    "\n",
    "Shift + Enter -> To Run a Cell <br/>"
   ]
  },
  {
   "cell_type": "markdown",
   "metadata": {},
   "source": [
    "# Cart Pole using Vanilla Policy Gradients\n",
    "\n",
    "We are using a **On-Policy** vanilla Policy Gradient which has <br/>\n",
    "- **Causality** implemented\n",
    "    2. **Discount** implemented (Reason - sum of rewards in an infinite horizon problem explodes the gradient)\n",
    "    3. Mean Rewards **Baselines** implemented\n",
    "    4. Gradient **Averaging** implemented (Reason - Expectation of gradients implemented as per formula)\n",
    "   \n",
    "Following are NOT Implemented\n",
    "    - **Parallelism** in sampling\n",
    "    - Frequent model **Saving**\n",
    "    - num_of_episodes **decaying** (Reason - As policy improves, episode length increases making training slow)"
   ]
  },
  {
   "cell_type": "code",
   "execution_count": null,
   "metadata": {},
   "outputs": [],
   "source": []
  }
 ],
 "metadata": {
  "kernelspec": {
   "display_name": "Python 3",
   "language": "python",
   "name": "python3"
  },
  "language_info": {
   "codemirror_mode": {
    "name": "ipython",
    "version": 3
   },
   "file_extension": ".py",
   "mimetype": "text/x-python",
   "name": "python",
   "nbconvert_exporter": "python",
   "pygments_lexer": "ipython3",
   "version": "3.7.6"
  }
 },
 "nbformat": 4,
 "nbformat_minor": 4
}
